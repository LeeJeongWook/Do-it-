{
  "nbformat": 4,
  "nbformat_minor": 0,
  "metadata": {
    "colab": {
      "name": "03. 머신러닝의 기초를 다집니다.ipynb",
      "provenance": [],
      "collapsed_sections": []
    },
    "kernelspec": {
      "name": "python3",
      "display_name": "Python 3"
    },
    "language_info": {
      "name": "python"
    }
  },
  "cells": [
    {
      "cell_type": "markdown",
      "metadata": {
        "id": "YdSkbkL-Dr6p"
      },
      "source": [
        "#03 머신러닝의 기초를 다집니다 - 수치 예측"
      ]
    },
    {
      "cell_type": "markdown",
      "metadata": {
        "id": "zR1OR4b0DB4O"
      },
      "source": [
        "##03-1 선형 회귀에 대해 알아보고 데이터를 준비합니다."
      ]
    },
    {
      "cell_type": "code",
      "metadata": {
        "id": "uc6JejhmA54t"
      },
      "source": [
        "from sklearn.datasets import load_diabetes      #사이킷런의 datasets모듈에 있는 load_diabetes()함수를 import\n",
        "diabetes = load_diabetes()"
      ],
      "execution_count": 1,
      "outputs": []
    },
    {
      "cell_type": "code",
      "metadata": {
        "colab": {
          "base_uri": "https://localhost:8080/"
        },
        "id": "Ar92PK1SBSNk",
        "outputId": "d1629b43-3a3a-47bc-cf89-4fbfe5512158"
      },
      "source": [
        "print(diabetes.data.shape, diabetes.target.shape)"
      ],
      "execution_count": 2,
      "outputs": [
        {
          "output_type": "stream",
          "name": "stdout",
          "text": [
            "(442, 10) (442,)\n"
          ]
        }
      ]
    },
    {
      "cell_type": "code",
      "metadata": {
        "colab": {
          "base_uri": "https://localhost:8080/"
        },
        "id": "vWBGtHGkEnDk",
        "outputId": "03b59c1e-a017-4ef3-a191-355d7144709c"
      },
      "source": [
        "diabetes.data[0:3]"
      ],
      "execution_count": 3,
      "outputs": [
        {
          "output_type": "execute_result",
          "data": {
            "text/plain": [
              "array([[ 0.03807591,  0.05068012,  0.06169621,  0.02187235, -0.0442235 ,\n",
              "        -0.03482076, -0.04340085, -0.00259226,  0.01990842, -0.01764613],\n",
              "       [-0.00188202, -0.04464164, -0.05147406, -0.02632783, -0.00844872,\n",
              "        -0.01916334,  0.07441156, -0.03949338, -0.06832974, -0.09220405],\n",
              "       [ 0.08529891,  0.05068012,  0.04445121, -0.00567061, -0.04559945,\n",
              "        -0.03419447, -0.03235593, -0.00259226,  0.00286377, -0.02593034]])"
            ]
          },
          "metadata": {},
          "execution_count": 3
        }
      ]
    },
    {
      "cell_type": "code",
      "metadata": {
        "colab": {
          "base_uri": "https://localhost:8080/"
        },
        "id": "_lKHwaqsEtOv",
        "outputId": "e035f8a6-d130-4b13-a6a4-cca314b427fd"
      },
      "source": [
        "diabetes.target[:3]"
      ],
      "execution_count": 4,
      "outputs": [
        {
          "output_type": "execute_result",
          "data": {
            "text/plain": [
              "array([151.,  75., 141.])"
            ]
          },
          "metadata": {},
          "execution_count": 4
        }
      ]
    },
    {
      "cell_type": "code",
      "metadata": {
        "colab": {
          "base_uri": "https://localhost:8080/",
          "height": 279
        },
        "id": "KVCGPhfVFLxw",
        "outputId": "d9bff58f-4e39-45fb-9e06-1a0874210127"
      },
      "source": [
        "import matplotlib.pyplot as plt\n",
        "plt.scatter(diabetes.data[:,2], diabetes.target)\n",
        "plt.xlabel('x')\n",
        "plt.ylabel('y')\n",
        "plt.show()"
      ],
      "execution_count": 5,
      "outputs": [
        {
          "output_type": "display_data",
          "data": {
            "image/png": "[encoded data removed]",
            "text/plain": [
              "<Figure size 432x288 with 1 Axes>"
            ]
          },
          "metadata": {
            "needs_background": "light"
          }
        }
      ]
    },
    {
      "cell_type": "code",
      "metadata": {
        "id": "CPh9NZVBIp8e"
      },
      "source": [
        "x = diabetes.data[:, 2]\n",
        "y = diabetes.target"
      ],
      "execution_count": 6,
      "outputs": []
    },
    {
      "cell_type": "markdown",
      "metadata": {
        "id": "-YD7xVTMC7gw"
      },
      "source": [
        "##03-2 경사 하강법으로 학습하는 방법을 알아봅니다"
      ]
    },
    {
      "cell_type": "markdown",
      "metadata": {
        "id": "bKj6XRtoJKLi"
      },
      "source": [
        "####**예측값으로 올바른 모델 찾기**"
      ]
    },
    {
      "cell_type": "code",
      "metadata": {
        "id": "NPXn_ZxZD4cu"
      },
      "source": [
        "w = 1.0     # w와 b초기화 하기\n",
        "b = 1.0"
      ],
      "execution_count": 7,
      "outputs": []
    },
    {
      "cell_type": "code",
      "metadata": {
        "colab": {
          "base_uri": "https://localhost:8080/"
        },
        "id": "kgJT8AYkD-ht",
        "outputId": "44327a9d-6b0a-47f5-ebb1-b9303872cba3"
      },
      "source": [
        "y_hat = x[0] * w + b\n",
        "print(y_hat)"
      ],
      "execution_count": 8,
      "outputs": [
        {
          "output_type": "stream",
          "name": "stdout",
          "text": [
            "1.0616962065186886\n"
          ]
        }
      ]
    },
    {
      "cell_type": "code",
      "metadata": {
        "colab": {
          "base_uri": "https://localhost:8080/"
        },
        "id": "E_pSyljfEOKQ",
        "outputId": "905d463f-00e3-4ff9-c5be-0093adc2ca7e"
      },
      "source": [
        "print(y[0])"
      ],
      "execution_count": 9,
      "outputs": [
        {
          "output_type": "stream",
          "name": "stdout",
          "text": [
            "151.0\n"
          ]
        }
      ]
    },
    {
      "cell_type": "code",
      "metadata": {
        "colab": {
          "base_uri": "https://localhost:8080/"
        },
        "id": "OHSC3GPMERjX",
        "outputId": "fbae3059-aa24-480b-a03c-68bad837a824"
      },
      "source": [
        "w_inc = w + 0.1\n",
        "y_hat_inc = x[0] * w_inc + b\n",
        "print(y_hat_inc)"
      ],
      "execution_count": 10,
      "outputs": [
        {
          "output_type": "stream",
          "name": "stdout",
          "text": [
            "1.0678658271705574\n"
          ]
        }
      ]
    },
    {
      "cell_type": "code",
      "metadata": {
        "colab": {
          "base_uri": "https://localhost:8080/"
        },
        "id": "fP_0pyFDEcR7",
        "outputId": "bf896e47-28b1-443a-b2fc-6464bbcd7899"
      },
      "source": [
        "w_rate = (y_hat_inc - y_hat) / (w_inc - w)\n",
        "print(w_rate)"
      ],
      "execution_count": 11,
      "outputs": [
        {
          "output_type": "stream",
          "name": "stdout",
          "text": [
            "0.061696206518688734\n"
          ]
        }
      ]
    },
    {
      "cell_type": "markdown",
      "metadata": {
        "id": "nKX3kvQXIsHw"
      },
      "source": [
        "####**변화율로 가중치 업데이트 하기**"
      ]
    },
    {
      "cell_type": "code",
      "metadata": {
        "colab": {
          "base_uri": "https://localhost:8080/"
        },
        "id": "YiRM0asEI1rJ",
        "outputId": "0c251e33-ef10-4dd4-ba5e-94762da376a4"
      },
      "source": [
        "w_new = w + w_rate\n",
        "print(w_new)"
      ],
      "execution_count": 12,
      "outputs": [
        {
          "output_type": "stream",
          "name": "stdout",
          "text": [
            "1.0616962065186888\n"
          ]
        }
      ]
    },
    {
      "cell_type": "code",
      "metadata": {
        "colab": {
          "base_uri": "https://localhost:8080/"
        },
        "id": "S4NYuonVJFSe",
        "outputId": "3d2b606c-0ffd-467b-903e-aebc4756663c"
      },
      "source": [
        "b_inc = b + 0.1\n",
        "y_hat_inc = x[0] * w + b_inc\n",
        "print(y_hat_inc)\n",
        "\n",
        "b_rate = (y_hat_inc - y_hat) / (b_inc - b)\n",
        "print(b_rate)"
      ],
      "execution_count": 13,
      "outputs": [
        {
          "output_type": "stream",
          "name": "stdout",
          "text": [
            "1.1616962065186887\n",
            "1.0\n"
          ]
        }
      ]
    },
    {
      "cell_type": "code",
      "metadata": {
        "colab": {
          "base_uri": "https://localhost:8080/"
        },
        "id": "0H1XYX6GJyI1",
        "outputId": "4562af3b-2049-4c31-9ddd-4b55aea42bc9"
      },
      "source": [
        "b_new = b + 1\n",
        "print(b_new)"
      ],
      "execution_count": 14,
      "outputs": [
        {
          "output_type": "stream",
          "name": "stdout",
          "text": [
            "2.0\n"
          ]
        }
      ]
    },
    {
      "cell_type": "markdown",
      "metadata": {
        "id": "arO2pni-J7FH"
      },
      "source": [
        "####**오차 역전파로 가중치와 절편을 더 적절하게 업데이트합니다**"
      ]
    },
    {
      "cell_type": "markdown",
      "metadata": {
        "id": "flGYrO9TKQN1"
      },
      "source": [
        "오차 역전파는 y hat과 y의 차이를 이용하여 w와 b를 업데이트 한다"
      ]
    },
    {
      "cell_type": "markdown",
      "metadata": {
        "id": "_rYOvH75Kjtx"
      },
      "source": [
        "#####**오차와 변화율을 곱하여 가중치 업데이트하기** **굵은 텍스트**"
      ]
    },
    {
      "cell_type": "code",
      "metadata": {
        "colab": {
          "base_uri": "https://localhost:8080/"
        },
        "id": "XxG15VCMKDAr",
        "outputId": "d00b63dd-2e71-4927-fc66-8a5501c96048"
      },
      "source": [
        "err = y[0] - y_hat\n",
        "w_new = w + w_rate * err\n",
        "b_new = b + 1 * err\n",
        "print(w_new, b_new)"
      ],
      "execution_count": 15,
      "outputs": [
        {
          "output_type": "stream",
          "name": "stdout",
          "text": [
            "10.250624555904514 150.9383037934813\n"
          ]
        }
      ]
    },
    {
      "cell_type": "code",
      "metadata": {
        "colab": {
          "base_uri": "https://localhost:8080/"
        },
        "id": "f4VYvxvGLbqV",
        "outputId": "d1210e8b-965f-4779-9fe2-a2a6a6022c10"
      },
      "source": [
        "y_hat = x[1] * w_new + b_new\n",
        "err = y[1] - y_hat\n",
        "w_rate = x[1]\n",
        "w_new = w_new + w_rate * err\n",
        "b_new = b_new + 1 * err\n",
        "print(w_new, b_new)"
      ],
      "execution_count": 16,
      "outputs": [
        {
          "output_type": "stream",
          "name": "stdout",
          "text": [
            "14.132317616381767 75.52764127612664\n"
          ]
        }
      ]
    },
    {
      "cell_type": "markdown",
      "metadata": {
        "id": "EmlzEKPgPHqU"
      },
      "source": [
        "#####**전체 샘플을 반복하기**"
      ]
    },
    {
      "cell_type": "code",
      "metadata": {
        "colab": {
          "base_uri": "https://localhost:8080/"
        },
        "id": "_b_ttJ8pLyqH",
        "outputId": "ea54eacf-fb93-40cf-f3a5-c9b372d2975e"
      },
      "source": [
        "for x_i, y_i in zip(x, y):\n",
        "    y_hat = x_i * w + b\n",
        "    err = y_i - y_hat\n",
        "    w_rate = x_i\n",
        "    w = w + w_rate * err\n",
        "    b = b + 1 * err\n",
        "print(w, b)"
      ],
      "execution_count": 17,
      "outputs": [
        {
          "output_type": "stream",
          "name": "stdout",
          "text": [
            "587.8654539985689 99.40935564531424\n"
          ]
        }
      ]
    },
    {
      "cell_type": "code",
      "metadata": {
        "colab": {
          "base_uri": "https://localhost:8080/",
          "height": 279
        },
        "id": "WIOkvODlNTZL",
        "outputId": "a4c5bdeb-f243-4de5-a97a-d8d1fd4c3483"
      },
      "source": [
        "plt.scatter(x, y)\n",
        "pt1 = (-0.1, -0.1 * w + b)\n",
        "pt2 = (0.15, 0.15 * w + b)\n",
        "plt.plot([pt1[0], pt2[0]], [pt1[1], pt2[1]])\n",
        "plt.xlabel('x')\n",
        "plt.ylabel('y')\n",
        "plt.show()"
      ],
      "execution_count": 18,
      "outputs": [
        {
          "output_type": "display_data",
          "data": {
            "image/png": "[encoded data removed]",
            "text/plain": [
              "<Figure size 432x288 with 1 Axes>"
            ]
          },
          "metadata": {
            "needs_background": "light"
          }
        }
      ]
    },
    {
      "cell_type": "markdown",
      "metadata": {
        "id": "6jzkPRCxPEhi"
      },
      "source": [
        "#####**여러 에포크를 반복하기**"
      ]
    },
    {
      "cell_type": "code",
      "metadata": {
        "colab": {
          "base_uri": "https://localhost:8080/"
        },
        "id": "atKEBrvjOnYu",
        "outputId": "6b283bd2-b41e-42d1-873c-55c0ae896efa"
      },
      "source": [
        "for i in range(1, 100):\n",
        "    for x_i, y_i in zip(x, y):\n",
        "        y_hat = x_i * w + b\n",
        "        err = y_i - y_hat\n",
        "        w_rate = x_i\n",
        "        w = w + w_rate * err\n",
        "        b = b + 1 * err\n",
        "print(w, b)"
      ],
      "execution_count": 19,
      "outputs": [
        {
          "output_type": "stream",
          "name": "stdout",
          "text": [
            "913.5973364345905 123.39414383177204\n"
          ]
        }
      ]
    },
    {
      "cell_type": "code",
      "metadata": {
        "colab": {
          "base_uri": "https://localhost:8080/",
          "height": 279
        },
        "id": "Q3RPofVbO10s",
        "outputId": "5068ebc7-c403-473a-a1fe-1d6831fee19a"
      },
      "source": [
        "plt.scatter(x, y)\n",
        "pt1 = (-0.1, -0.1 * w + b)\n",
        "pt2 = (0.15, 0.15 * w + b)\n",
        "plt.plot([pt1[0], pt2[0]], [pt1[1], pt2[1]])\n",
        "plt.xlabel('x')\n",
        "plt.ylabel('y')\n",
        "plt.show()"
      ],
      "execution_count": 20,
      "outputs": [
        {
          "output_type": "display_data",
          "data": {
            "image/png": "[encoded data removed]",
            "text/plain": [
              "<Figure size 432x288 with 1 Axes>"
            ]
          },
          "metadata": {
            "needs_background": "light"
          }
        }
      ]
    },
    {
      "cell_type": "markdown",
      "metadata": {
        "id": "2oPWdoiWPRpu"
      },
      "source": [
        "#####**모델로 예측하기**"
      ]
    },
    {
      "cell_type": "code",
      "metadata": {
        "colab": {
          "base_uri": "https://localhost:8080/"
        },
        "id": "DkS8xFcKPT-f",
        "outputId": "5067ea2b-03ac-4a29-e734-9620dc9b9867"
      },
      "source": [
        "x_new = 0.18\n",
        "y_pred = x_new * w + b\n",
        "print(y_pred)"
      ],
      "execution_count": 21,
      "outputs": [
        {
          "output_type": "stream",
          "name": "stdout",
          "text": [
            "287.8416643899983\n"
          ]
        }
      ]
    },
    {
      "cell_type": "code",
      "metadata": {
        "colab": {
          "base_uri": "https://localhost:8080/",
          "height": 279
        },
        "id": "9B79XgAYPfHw",
        "outputId": "c493fe48-75cc-4825-88d3-cda8da2ff22f"
      },
      "source": [
        "plt.scatter(x, y)\n",
        "plt.scatter(x_new, y_pred)\n",
        "plt.xlabel('x')\n",
        "plt.ylabel('y')\n",
        "plt.show()"
      ],
      "execution_count": 22,
      "outputs": [
        {
          "output_type": "display_data",
          "data": {
            "image/png": "[encoded data removed]",
            "text/plain": [
              "<Figure size 432x288 with 1 Axes>"
            ]
          },
          "metadata": {
            "needs_background": "light"
          }
        }
      ]
    },
    {
      "cell_type": "markdown",
      "metadata": {
        "id": "tUsjconQP_kW"
      },
      "source": [
        "##03-3 손실 함수와 경사 하강법의 관계를 알아봅니다"
      ]
    },
    {
      "cell_type": "markdown",
      "metadata": {
        "id": "jZPgNd4bWUwc"
      },
      "source": [
        "**가중치에 대하여 제곱 오차 미분하기**"
      ]
    },
    {
      "cell_type": "code",
      "metadata": {
        "id": "JKeg1NbbQE6P"
      },
      "source": [
        "y_hat = x_i * w + b\n",
        "err = y_i - y_hat\n",
        "w_rate = x_i\n",
        "w = w + w_rate * err"
      ],
      "execution_count": 23,
      "outputs": []
    },
    {
      "cell_type": "markdown",
      "metadata": {
        "id": "sJIZPiJuCSC1"
      },
      "source": [
        "**절편에 대하여 제곱 오차 미분하기**"
      ]
    },
    {
      "cell_type": "code",
      "metadata": {
        "id": "Qgy5oIVxW_26"
      },
      "source": [
        "err = y_i - y_hat\n",
        "b = b + 1 * err"
      ],
      "execution_count": 24,
      "outputs": []
    },
    {
      "cell_type": "markdown",
      "metadata": {
        "id": "sj5qRVdVCfsz"
      },
      "source": [
        "##03-4 선형 회귀를 위한 뉴런을 만듭니다"
      ]
    },
    {
      "cell_type": "code",
      "metadata": {
        "id": "8HrKOtpJB0y7"
      },
      "source": [
        "class Neuron:\n",
        "    \n",
        "    def __init__(self):\n",
        "        #초기화 작업을 수행\n",
        "        #...\n",
        "        #필요한 메서드를 추가\n",
        "        #...\n"
      ],
      "execution_count": null,
      "outputs": []
    },
    {
      "cell_type": "markdown",
      "metadata": {
        "id": "ZxOpLdFgCynP"
      },
      "source": [
        "**1. __init__() 메서드 작성하기**"
      ]
    },
    {
      "cell_type": "code",
      "metadata": {
        "id": "Ddyc7r2jC2e9"
      },
      "source": [
        "# 학습할 때 가중치 w와 절편 b는 시작값이 있어야 하므로 임의로 1.0로 지정\n",
        "\n",
        "def __init(self):\n",
        "    self.w = 1.0\n",
        "    self.b = 1.0"
      ],
      "execution_count": 25,
      "outputs": []
    },
    {
      "cell_type": "markdown",
      "metadata": {
        "id": "xZk1w1-ADGRt"
      },
      "source": [
        "**2. 정방향 계산 만들기**"
      ]
    },
    {
      "cell_type": "code",
      "metadata": {
        "id": "EIyt_lQECdiB"
      },
      "source": [
        "# 정방향 계산이란 뉴런으로 도식화한 상태에서 y^을 구하는 방향을 보고 만든 용어이다.\n",
        "\n",
        "def forpass(self, x):\n",
        "    y_hat = x * self.w + self.b\n",
        "    return y_hat"
      ],
      "execution_count": 26,
      "outputs": []
    },
    {
      "cell_type": "markdown",
      "metadata": {
        "id": "lpSXTvfAEuVo"
      },
      "source": [
        "![화면 캡처 2021-12-02 115248.png](data:image/png;base64,iVBORw0KGgoAAAANSUhEUgAAAMkAAACHCAYAAAC8lH0ZAAAAAXNSR0IArs4c6QAAAARnQU1BAACxjwv8YQUAAAAJcEhZcwAADsMAAA7DAcdvqGQAAB2xSURBVHhe7Z13eFRV2sBfWgClSJNeElRq6CVIR6mCLgIBFg0Kq59+Klh2/VQE1F1XfVSw7OofCAoaWgBRAYUgLSAlQZqE3kvoEGpo3u/83sxgiMBAyAzJ3PN7mCeZO3cmzL3nPW8978nhGMRisVyVnJ6fFovlKlghsVh8YIXEYvGBFRKLxQdWSCwWH1ghsVh8YIXEYvGBFRKLxQdWSCwWH1ghsVh8YIXEYvFBlhOShQsXygcffKC/b9++XUaNGiUnT56UQYMG6TGLJdBkKSHZsmWLlChRQlavXq3Po6OjpWDBglKgQAE5ffq0HrNYAk2WEpLKlSvL/PnzpUePHnLmzBmZNm2atGvXTl9r3Lix/rRYAk2WM7dmzJghnTp1knnz5kl4eLgULlxYEhMTpUGDBp4zLJbAkqWE5MSJE3LHHXfIihUrpGrVqnL+/Hk5fvy47Nq1S+666y7PWRZLYMlyi65GjBihplWtWrXk119/lQMHDkiHDh08r1osgSfbrEw8npysmqVgoUISEhLiOWqx+J8s55NcjUOHDsnEiRNl8eLFkpKS4jlqsfifbCMkoWFhUqxYMZkwfoLMN059sISEf//9d7l48aJqybNnz+r34sFEcO7cOX2Ncyy3jmzVCIKBM2rkKE049v5rb2nTpo3cfvvtnlezNhcuXFAhILTN90AovA+OkTA9eyZFjhw9IhfOX5ACBQtIwYKF5PYCt8vtt90mt5nvmTdvXjU18+XLJ/nNI4/5PUeOHJ6/YPEX2a5byskTJ2X0mNGSEB8v3Xv0kJYtW2qyMavBZUUYGPzJx47Jzp07ZceOHfogGHHyxAn53ZwTYgZ+njx5eIOE5AkxwpQa0QMVHKNNcubIKXnz5dXIX5EiRaVc+XJyV+XKUvmuu6RE8RLGTyuogmMFxj9ky5ZCmCOjRo7U6FevXr2keYsWkj9/fs+rtxZMo+TkZBWK9evWycaNG2Xbtm2yd+9eM5DzS1hYqFSrVk0HeIXy5eXOO++UfOb/njNnTh3kvN+rWY4cPmx8scOqgU6cOC779u+XHdu3a7nOkSNHpEyZshoar1K1iv4MrVRJtQtVClZgMo9sKSSAvT7SCMoKIyhRfftKo0aNbmnUC3Nq3759st0IBMIbtyBOko8nS8WKlaRevbrSuHGE3FPlHrnNmE4IREZBiBCabVu3ysqVK2Xp0mWydesWnSSaNWumWrVa9eoqNJT4WG6ebCskwIz7+WefyQ4za0dFRWluRU2XAHI25awRjiTZvHmzzI6dLeuM9sD8aXt/W2nWormULVtWfQl/wWRx9OhRWbNmjcTOmiUnT53S503vvVcaNW4soaGhGvCwmiXjZGshAcySr778Unbt3i1PPPGEMWfCbmqmvl6Y0TGh4pfFm4eZzbdskeIlikvrNm2kVevWUrRo0YAPTDQMgQA0TFxcnNFq26VGzRrSonlzCTM+TKFChTxnWm6EbC8kQDnLR8OHqy0e2bOnlC5d2q8D9JSZrdEYP8+eLQkJCRIWGiZNjanTOKKx+hhZYdbm/7hgwQLVLoSRa9WuLfffd59x+stLrly5PGdZroegEBJgVh8zerQWRPaIjPSLiYH22G001oL5843fscL8rUJSp25diYiIUPs/EBrsRvBqO6qpF8ybJ1WqVpWOHTuqWUqwwHJ9BI2QAKHV0V+NliJF7pCHu3VTkyezYGZeZsyqJYuXyKFDB6Vu3XrSoWMHKV68uOeMrAuadvEvv8iPM35U87Rzl84aEczM6xPMBJWQwOHDh41GGWNm9uLy4EMP3bQdzuVBe8ydM0fi4+PVXHnIfC7Ro9y5c3vOyvoQfVuXuE4mTpig4emIJhGqVSpUrJjlNGBWI+iEBI4cPiIxk2KkmJkpH+jcOcM5FGx58hxTv/1Wtm3fLq1btZK27dpl22gR5tee3Xtk5syfZNGiRVKhQgXp1r27VK9ePVsJfKAJSiEBTK8Z06cbTVLYCMoDNxyGZeZlGfH4ceONiXJCtce9TZtqcCA7w+0mo78wLk4mT56i5S+PPfaY1DaOvXXor0zQCgns37dPZs2apZrkL127XvdsSRgV/2PC+PFGY+SU7j26S8OGDbX0I1igZGbJ4sXyzTffaI1Y/7/1lxo1amRLDelvgtoYLVmqlLRr397MnCdkyuTJOjB8Qa7hF2OKfP3115LLCFWfR/po9CqYBAT4PmjGR6OitIxm3NixsnXrVtU0lssJeo+NvEV7FZTjMnXqVNUSgMCsWrlS16d4uWBeW56QoAJClS1Z/Dp16gQ8ix8oKONhFWivXj21pOY7c334abmcoBcSzIcyZcvI/W3byp49e2TaDz+ooJww2mXmzFny44wZ6qAzg24wTnrMxImS1wgIMyyNKIJ9FSQapVnz5vLAAw9opp7kI6tALX/gitgfglK+fHlp366dbNq0ScaNGyfnzp012iVZK3QRGppNEB6l9unRRx/VhJtbIj4UXba57z65zzzI0i//9ddLGtfiEiEBIjdknNsajbJzxw6JiYnRwUFYlJJ0ImEbNmyQLg8+KPXq1XNdSJS1Kp27dJF77rlHfvrxRy3Ht/5JKq4RktNGQ6AtcObbd+ggSUlJsnTpUi0tX758ucz5eY7ce++90qpVK9c2miD/061bNzlz+oxm6MnUW4I8BOwFn2P1qlXy73//WwoVLCRFixVVgVm1arVUq1ZVSpUsJUWKFJGnn/lfKVeunOdd7oRrFRsbK99/97088eQTmj9xe0beFUJi7AY5bmZFQpw5jX+Sw9z0sykpujiKwVC8eDF5+f9ekWrVq9k8gYE6tXffeUcKFS6siUa3L95yxxRhBj41XIRzKRmvWbOm1AwPl/IVKmjVcJQZCKwatAKSCs01unfvruFw6r2oPnAzrtSjCAM+CeFOCv3wRWzt0uVUr1FDTa2p306RgwcOeI66E1cKyZnTp3VtPAlGylWCLZueGZBAbdWqtSQaTbJu/XpXh4RdJyS4YCz1xTnt+vDDugbdcmXq1a8n4cY0ZZmAmyNdrhMSFh2xspCZsXXr1nYtxTWgcrqJMUWpGCYaSE7JjbhuhBw8eFB+/vln6dKliyYTLdeGji8kYsmbXE+BaDDiKiGhBdGihQu10pfMu8U3hH87dXpAZkyf4VqTy1VCcuzYMS1qZL+T/B4tQidE8iVHzU+EiJ5V9LKypEIkkNWLdJD8bc0aV4aDXSMkZJJZ271t21Zp2rTppZwIBY5vDB0qn3/+uXz33Xfy6iuvag2X5Q/Kliur+1nOmTNXtbDbcI2QYE8TpaF5XdVq1fQYsyLmRP0GDWTKlCkyOSZGTQp8FTcOhqtBDom+YgsXxmk23m24RkgY/HPnzpMmTZqoI0qkhiYPH7z/vpkh52j0ZuXKVZI3JETGRkfrxqZoH0sqDRs1kv37D8ie3btdF+VyhZAw2OnVS2ugDh066jHMrZA8ebT3VJ3atbXTO2tOwmvX0jY79NOyZSp/gAbmmqxdm2iFJBghJ7J0yRKpHBaqe3sAAnDX3XfL64MHa53S3eb32nVqaxuiPn36SP369W0OJQ3kTMLDaxp/bb0VkmAETULv3oiIJn9ar46NvXPnLqkUGqrJRaJdwbLVXGaCidqwYSNts+S2EhXXaBKiWNVrVP+TCUW7odZtWku/fv2kY6dO8tTTT9vu61eBzYL2Je1z3STiCiEhP0KzuorG10gPqxDLlCmjnejRMrbY8eoQBs6RM4e2IHLDMiQvQS8k2M9Je5Mkf958uojIknFYe4OWzQqZ90AmfINeSJjx9u7Zoxtz0oPLknFw3hEU/LZbCbt6Pf/88wHTZkEnJJhWGzdsvFQ+4S2Nx5zKirv0ZieI9tEL2V+Fjtwrgiy+Bj8FqoMGDdKON4Eg6ISEBnQfffSRfP/997qoigu+f/9+o0VKBizv8cILL+iN9MIOwcECS3tx3P0xi7NtxsyfZsq6xMSrmlPcXzq6sA6IrviBINOEhKz1hx9+qAPy448/llGjRnleCSypG9M4Msz8X8aOHauz3tmUM5fyI4GAnlUvvviiFkzC+vXr9WcwQH/kFPO9/DHhnD51WiZPnqTjiPX1Vwo104b122+/1d8JtFBv528yRUhwjmnF06lTJ92i4JFHHtEIyK0As+rll1/WRmvR0dHa1hQzoUSJwPkjzIJcgyFDhniOpMI1+eSTT1TTeWugvL13qT5mrQuLwnCMESzvOUw89Cf2nst5W7Zskd9++y3gOQvKdi5e8G0SZYRSpUvpalG+92effaZlQ2lLg7g2mNPeSWfMmDHaCd/fZGpLodGjR+vNxqlKi2OEiG2kaVCd4tkhltnoojl+0fgO/AcYyCSsmKFwENPuJ+Kds3gtt5k9+MlnIpz89y9eJAPsyO/m95QzKXLh4gVtsBY9Nlo1SWjFStKzZ6T07tMn9YP8TOfOneU///mPPPvss/LWW29pDoY+u7RPpTskN55aMY5/+umn8sUXX+i1I0yN34RwYVKULFlS34O51rVrV9WMmHENGjTQNqz4B4Svhw8f7vnL/udFc28L3F5AWrRqaa7zRb2P3FMv3EdvUw2+S25zT1Mxd9H84zkagHtlbp4ZCxfk3Plz+j7uJ2MDLTJ+/HhtFDhg4ECpWrWq5zNEpk+frmY014fKiED4JZkiJHwEA5fVftww4ukMBO/F4svvMCYIfWYZCKeMWuXCeAd/rly5LwkJFzBX7lx6MXmOemf2ymMePA/JbYQkpxES8z6vkHCxcdT5m9wwfp4ys86kSZN027ZzZ89JZGQPiQyQb9CjRw/517/+pYJOZ3omjtdff10ef/xx3VWKa/X222+rOUYGe/DgwbpPCH2KqR8jeoQ2hIFmkLRs2VIeNjMsGogmeu+//75qEb4nbZKI9gQC/l5Un0e0FVNoWKj6EGg97yQXkod7lHofufc5Pfczb0he/ZknT2796e2Qyb27YLTS+Qvn9f79bj7/dzPhMcktmL9ANm3eJJ+ayYaiVC+9e/dWU57rxef07dvX84r/uGkh4e3MdE8++aS8++678s9//lP3FuQ/nzZzzXlcUB7MFrk8QuF9pJJDBYSbwUNnJS60uRh60c1zBpie6fkJ/K4CYx7miQokAnLaaJNevXvJN8ZUYTbq+9hjnnf4F777Sy+9pLP9sGHDtHMku+BSH4Y9TSgaWxrzlGuHIHHdvDVjOKf/+Mc/9LMwKdiICAF75ZVX9HvRAR4hAXqIeX/3N2jn3j17StduD0sLI7iYPwxuBqtXSHTmM/caAWG5AfeG17l/PHjOgyaBDDzzTCe988ZEZYxgFTB+KMuvZiYUNEbaDVDx9Zo1a6Zm64wZMwKzBBshuVliY2OdZcuWOWZmdKZMmeIcOnTI80rgMXa789KLLzmvvvKKs3nTZsf4B85rr77mfPLxJ54z/I8xFRzjN+jvZhA5xvTS3+fMmeO0b9/e6dixo7No0SI9ZgaEY2ZGx/gYTkJCgmM0rWM0ir4GZkLRa2oERM8F73shLi7O85v/4b42jWjiTJ82zcxHxmDKZPiuZuA7zw983jGTg2P8D88rqSxZssQxguds3brVMWas56j/Cbo2p9j635tZul27dlrly0z3wQcfGC3jyGuDXvOcZckItIntFRkpnxgTiM1/0mrzzIClDPhoVapUUdM9/XIFzCzCvlgjDz74YBoLxL8EnZDgqGPrs5UAFxgh+WLECElcm2hu7qeesywZYc3qNdI36lEZN2GCbtGQ2UJC9I+l0/iR+F6Z/fkZJeiSiRQopr3A2MqlSpXWcCJ+iyXjHDp0UELy5vXbAKbkpVGjRuqDZBUBgaATkvRwsStUrCC79+w2N/mQ5+ifQYDQOparQyONIncUyfC++NkVVwgJuQTs1+3btnmOXg5RGMLTEydODHhyLruAVb5u3XrtnEIY100EvZAAYULyD8vi4z1HLgfBSFy7VmbHxt7yCtesClUE5HRIhgbKYc4quEJIiM+TxFu75vJ8ArkYkpusWqQUAnOLAYBmsabX5VB0SHlMg4YNrZAEI5gHlHIkLF8uhw8d1mMICHsl9o2Kkv79+mnSjnXwQ4cMkWefeUb7cFnT6w/QIqVKlZRKlSppMCQtXEsCI1+ba0h4NtjI9YbB83vQwk1FUGJiJkrjxo20rMKbIS5VqpRmj8uVLau1Us8NGKCb+qB5qI2ypDbxo+CQYkLqqdL7JPgrm4yQDB06VPNUdY1JFkzNyF2hSXDeKQXBnp49K9ZzVKRY8WK6E2/79u1VKIjakKwiTs9OtJZU6JO81vhsTB7euqu0YH6F16olf//737Wp30fDhwdVB0xXCAmwWIhG2TNjZ8luM9sB2oQiRGbGc8a0IpnFrIlQZaU4vb+g9mr7tu1aWEkJOhqBY9u2bpWNGzbo7xybP3++NhgPCcl7aVUiCdsN6zeoBuE8Kn7btmsnjz32uEYKx0WPVTMsGHCFuQUIRAEjKFSXXjAC0dCYXV68mqZ2nTqu6tyYEB8vX331lcyZO1cKGdOSbjLsbc86nFmxsWp+0isZzaBCYQSntDFPMVcp/acqmYghZinvTTTOPcsTKC8hGtaiRYugMLuCrizlWrAO4ZOPP9b9Ekd++aWWrnjxXga3CAikTaBiMvFg9ufB9SAqSHBjyODBWv9GFTPreTiP9xLY4Hp534vTPmP6dFm4cKEMML4dtXPBcD1dY24BJgELolJSzsqiuIWeo6lwM90kIKDBC+Nj8GCQAz95jhnK9fh2yhQtzcdXy5sv36XzvKaq970IyITx4yVmYowGP+72Q23XrcJVQsKNLVe+vNSoWUN+mPbDpTXoliuzdPES9VkIbFyrZxnaCO3MWpc33nxDix+DCVcJCVBEx8yYtHevxv4tVwbNMHLUSGndpo2UKl3ac/TKoElIMo75+mupGR6ux7i2V2s9xIpGyu7TkvZchA4zL7NI/7duFNcJCZEsbmSb++6TyZMma2TGcjn4GqzJwVxi6bCvfBHn4aCnbf7HEmMc+SvBOnW0jheqHliV6YVB/c4773ieXR+s/b9S8hffibUpN4PrhAQoxWaGPHDwgG5X7aLYhU8YVDRimDhhogoIrZiu5ltw7rhx43S5bfo+WWgi8k4IAwlGlhjTCw0oASIkDzt27JCpU6fqOb/88oseY+LifPqXzZ07V49dDf423WNIZBLGBhpmeO8pPcJutmrZlULCTQ8NDZU2rVvrjWNNuSUVdrJCQHDU2cP9WiFcfDxvNp5kLDDoKe9BO7C256efftISH9b2e00ofMH//ve/cv/992tOBfOLlaSTJ0/WAY/phV/D+nbv50KCEV4+B8EhUgmUE61YsUIFhHUunMP6dy8IJEJH9xUSnRnBlUICmBDNW7SQO8yFJSpjzS6RY0ePSvQ30bIvKUn+2uevmvvwFaGi5RF1ceztwkCl/SimEsLiTSaiFdhpzPscH4bGIWgZ+pMhUCQsKXkhL8Prixcv1g4zaX0TBIPPokkGLZvwLREaNAXCSsgajYL28HaQwQRD49GzjALNjOBaIQHK5zt27KgXlDL5YCqluFH47sz6mFpdHnpQy0wYdL6gXdJ7772n2oO8NDM7D0qAGLiEiRmkCIg3fMzn8iBPxWvkVRAsr5/Ca0TUpk2bphrGSxtjItN+CVMKIUNAuYcICcJMkSWCRLuhZ555RgWDv4+vRC+4nj17ej7pBjF/0HWYG+OY2UY7mpgL6wwfNszp0a27Y9SxduNwG2a2dZYuXer8rX9/571333WS9u71vOIbM+NrNxfg+nFdwfgXjjGbHGNKOUYI9LnR1o4xf5ykpCTHmLh6HhjhcPqbv71hwwZ9P/dg/fr1nlcvh88ywuEYn8eJjo526tev75hJzqlWrZr+LaOxPGemwnmcczO4UkhoVcONeevNN51Br73mPD9goNO4YSPn4a5d9WYyaNyCme2dxLVrnYEDBjgDnnvOWWt+ZxLJCDExMU6VKlWciIgIJzk52XP0Dx5//HHHaBgnMjLSc+RyvvjiC6dmzZpO3bp1nSNHjniOXg5thYwP4nnmOEYD6WTH30wLbZy8/wej5fRnRnGduWW+s0ZesHlXrlqlUZXNWzbLzl07Jd6YGqNGjlQ7+ErhxGADU4fixlFffilHjhyVHpGR2s7Hlx9yNaj5wtRhJ2NqwNJDU/XZs2drRApTLD007BsxYoQ67avMvbkStDKia6UXGvZRb8dnpwXTCz8H0rZJzQiuKXD0wgDAacdJxPFrZRxOtqo+feqUlClTVm67Lb9GS7zFfddjl2dHGKQMpNFfjZYd23dIVN8o7YyYfq3IjcA1o2YLP4BOi+mvHT4I7Vuffvpp7YqSHpYovPrqqxpZe+qppzR6dr2k/3/jp/B/oICT5uJt27b1vHLjuKrAMT2EGnEaf1m0SMOHrG/vZAQHx5O2mz179dKb6Y3pBws46euNo01YFOeWRB6RPga35c+4NrqFqUGYcrVR6/UbNFAhYU1J7dq1dUkvM9E3Y76W2FmzNI4fLHMJEwMRLLrYk0MwfoIVEB+4VkiOmIG/zNjN7GfSqGFD3QaCxBlVrSw/7de/v1SoWFF++OEHiTZ2NjNv+qxydgIhJzxKQm38hAlqnkT17StNjYllBeTauNLcIuO7xDjuJLi69+ihwkE3kBMnT0rz5s31HC7Lgf375ccff5L5ZmBRytKufTuJaNJEiySzE+QoaCw3a+ZMSUxcJxUrVtBNjlgfklEn3U24TkiIWlF4lxCfIC1aNNd1D4D5xaXwJry8nDp5SpYtW6aLiU6cOK7VrhRH4lxmdaee70SyD/OK78Dy5IiIJtK6TWu/tSoNRlwlJAyancYPiY2N1aW6lFNcTwSFSBC9uebNnSdLlyzRbcsQlPrGLGOdRVYbbNxSwtxkwefOmavlGFWq3CPNjJZEe1jz6sZwjZDwNSmemxQzSQdMy1atblgTEP1auWKllrFs3bpFyx3at+8g4bXCs8TAw+cgcoXmiIuL0+9LIWfDRo10Qki7XNly/bhGSChgHDN6tDEzispfuv4lw+XTXC6cfhKPbOewf/8+7SRCkos8A0uEA61ZqGJetHChxC+Ll5SUM3LsWLKUKVNaAxA0Yyhdpow1rW4CVwgJUakpk6fIjh3b5Yknn7xse7GMgulGaJjM8PKE5SosDEQ6iZC1rlmjhtxZsqRfNAy3DC2xedMmWW20Gv7VuXNnNZlHeTp+R83wmrrXebAmQwNJ0AsJg5lZlgrTZ597Tm3yzMQ7YPFZVv66QjZu2qgJOi5qmdJlpF79elpyHmbMnoKFCukgRph4XI8/xOfjE2FKse8igrFt23YtGedY0aJFJCyssjGpGuqGrgglXSmt5sg8gl5I2J1p2LAPpV+//sZxbebXwXOCgZyUJPuNkNB7ivKWJPP86NFjEhKSR80y/IJiRYpodKlkyVJSxAzywoXvkEKFUzdh5XawCy2JPt6HYGwygrdr1271N8hvUC5TuXKYCjyaiz30+bz0kTlL5hDUQsKsO3ToG9L14a7y0EMP3VRd0o1yzgzoJCMsBw8ckMPG4T9ktA0Rp2TjLxw/nqymGhri9JkzKhT58hkfycgvycyCBQpKHoTK+E34OGgHtBDCgTDwIGhAvsYKhv8JWiHBFHl+4EAJDw+X/3nqqWsuQ/U3XGL8Ih5nU1LkjHmweo6cDdqBjpI5jOmFlmPr7jzsh547lwoH5hnCwoPnN1L0Z8kcglJIGHgsI2U2HzxkiM7AFktGCbppia2oWbNOw2ccdSsglpsl6IQkYXmCriFgjTPRHovlZgkqIaE26e2339Z+v5RgWKfWkhlkSyGhIRodOtKCa/X5559L5bAw6fPII7fUUbcEF9lSSAh/pt8ll9KMokWKyAsvvqiv22SaJbPIltEtIlfkPa60TtpiyWyypSahmwll4FFRUVoOYrH4k2wnJGxJRqKQPrGRkZHaHNli8SfZTkhovkxbGso1WExEzyWLxZ9kOyGhBZB3v4mZM2eqRrFY/Em2ExJv/RJbJtAvymoSi7/JdtEtOpyw8T6tNINtbz5L1iRoq4AtlswiW4aALZZAYoXEYvGBFRKLxQdWSCwWH1ghsVh8YIXEYvGBFRKLxQdWSCwWH1ghsVh8YIXEYvGBFRKLxQdWSCwWH1ghsVh8YIXEYvGBFRKL5ZqI/D/2/MnwPrJNKAAAAABJRU5ErkJggg==)"
      ]
    },
    {
      "cell_type": "markdown",
      "metadata": {
        "id": "IKfN76_TEvuj"
      },
      "source": [
        "w, x, b가 뉴런의 왼쪽에서 오른쪽 방향으로 흘러 ŷ이 되고 이를 정방향 계산이라 한다.  \n",
        "정방향 계산을 수한다고 하면 ŷ을 구한다고 생각하면 된다.  \n",
        "ŷ = w * x + b"
      ]
    },
    {
      "cell_type": "markdown",
      "metadata": {
        "id": "7-EvgPtuDk6A"
      },
      "source": [
        "**3. 역방향 계산 만들기**"
      ]
    },
    {
      "cell_type": "markdown",
      "metadata": {
        "id": "FfNxAiLuFDt6"
      },
      "source": [
        "![화면 캡처 2021-12-02 115823.png](data:image/png;base64,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)"
      ]
    },
    {
      "cell_type": "markdown",
      "metadata": {
        "id": "hdDgIpRsFKbP"
      },
      "source": [
        "정방향 계산을 통해 얻어낸 ŷ과 y의 차이, 즉 오차가 뉴런의 오른쪽 방향에서 왼쪽 방향으로 흐르는 것처럼 보인다.\n",
        "이를 역방향 계산이라 부르고 오차가 역전파(backpropagation)된다."
      ]
    },
    {
      "cell_type": "code",
      "metadata": {
        "id": "6xkIlLjzFf_V"
      },
      "source": [
        "def backprop(self, x, err):\n",
        "    w_grad = x * err        # 가중치에 대한 그레이디언트를 계산한다\n",
        "    b_grad = 1 * err        # 절편에 대한 그레이디언트를 계산한다\n",
        "    return w_grad, b_grad"
      ],
      "execution_count": 27,
      "outputs": []
    },
    {
      "cell_type": "markdown",
      "metadata": {
        "id": "t7tRu-RrIA8e"
      },
      "source": [
        "**4. Neuron Class 만들기**"
      ]
    },
    {
      "cell_type": "code",
      "metadata": {
        "id": "lZarN489HPyV"
      },
      "source": [
        "class Neuron:\n",
        "\n",
        "    def __init__(self):\n",
        "        self.w = 1.0    # 가중치를 초기화 한다\n",
        "        self.b = 1.0    # 절편을 초기화 한다\n",
        "\n",
        "    def forpass(self, x):\n",
        "        y_hat = x * self.w + self.b     # 직선 방정식을 계산한다\n",
        "        return y_hat_inc\n",
        "    \n",
        "    def backprop(slef, x, err):\n",
        "        w_grad = x * err    # 가중치에 대한 그레이디언트를 계산한다\n",
        "        b_grad = 1 * err    # 절편에 대한 그레이디언트를 계산한다\n",
        "        return w_grad, b_grad"
      ],
      "execution_count": 28,
      "outputs": []
    },
    {
      "cell_type": "markdown",
      "metadata": {
        "id": "-OWrsOxGIGQW"
      },
      "source": [
        "**5. 훈련을 위한 fit() 메서드 구현하기**"
      ]
    },
    {
      "cell_type": "code",
      "metadata": {
        "id": "hpCH-ZvRIKH1"
      },
      "source": [
        "class Neuron:\n",
        "\n",
        "    def __init__(self):\n",
        "        self.w = 1.0    # 가중치를 초기화 한다\n",
        "        self.b = 1.0    # 절편을 초기화 한다\n",
        "\n",
        "    def forpass(self, x):\n",
        "        y_hat = x * self.w + self.b     # 직선 방정식을 계산한다\n",
        "        return y_hat\n",
        "    \n",
        "    def backprop(self, x, err):\n",
        "        w_grad = x * err    # 가중치에 대한 그레이디언트를 계산한다\n",
        "        b_grad = 1 * err    # 절편에 대한 그레이디언트를 계산한다\n",
        "        return w_grad, b_grad\n",
        "\n",
        "    def fit(self, x, y, epochs=100):\n",
        "        for i in range(epochs):                    # 에포크만큼 반복\n",
        "            for x_i, y_i in zip(x, y):             # 모든 샘플에 대해 반복\n",
        "                y_hat = self.forpass(x_i)          # 정방향 계산\n",
        "                err = -(y_i - y_hat)               # 오차 계산\n",
        "                w_grad, b_grad = self.backprop(x_i, err)    # 역방향 계산\n",
        "                self.w -= w_grad                   # 가중치 업데이트\n",
        "                self.b -= b_grad                   # 절편 업데이트"
      ],
      "execution_count": 42,
      "outputs": []
    },
    {
      "cell_type": "markdown",
      "metadata": {
        "id": "teOkmQWrIzSH"
      },
      "source": [
        "**6. 모델 훈련하기(학습시키기)**"
      ]
    },
    {
      "cell_type": "code",
      "metadata": {
        "id": "IzwGzSNaI2X8"
      },
      "source": [
        "neuron = Neuron()\n",
        "neuron.fit(x, y)"
      ],
      "execution_count": 43,
      "outputs": []
    },
    {
      "cell_type": "code",
      "metadata": {
        "colab": {
          "base_uri": "https://localhost:8080/",
          "height": 279
        },
        "id": "mGXOdPtnJnR-",
        "outputId": "7f817d6a-8243-4f4d-936e-82e05bc7f96a"
      },
      "source": [
        "plt.scatter(x, y)\n",
        "pt1 = (-0.1, -0.1 * neuron.w + neuron.b)\n",
        "pt1 = (0.15, 0.15 * neuron.w + neuron.b)\n",
        "plt.plot([pt1[0], pt2[0]], [pt1[1], pt2[1]])\n",
        "plt.xlabel('x')\n",
        "plt.ylabel('y')\n",
        "plt.show()"
      ],
      "execution_count": 44,
      "outputs": [
        {
          "output_type": "display_data",
          "data": {
            "image/png": "[encoded data removed]",
            "text/plain": [
              "<Figure size 432x288 with 1 Axes>"
            ]
          },
          "metadata": {
            "needs_background": "light"
          }
        }
      ]
    }
  ]
}